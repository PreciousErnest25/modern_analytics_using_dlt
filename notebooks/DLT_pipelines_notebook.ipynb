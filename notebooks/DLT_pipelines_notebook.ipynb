{
 "cells": [
  {
   "cell_type": "code",
   "execution_count": 0,
   "metadata": {
    "application/vnd.databricks.v1+cell": {
     "cellMetadata": {
      "byteLimit": 2048000,
      "rowLimit": 10000
     },
     "inputWidgets": {},
     "nuid": "6e35402e-1b09-4a02-a65d-cfb6228f80b0",
     "showTitle": false,
     "tableResultSettingsMap": {},
     "title": ""
    }
   },
   "outputs": [],
   "source": [
    "CREATE STREAMING LIVE TABLE sales\n",
    "AS SELECT *, current_timestamp() as ingestion_date FROM cloud_files(\n",
    "  's3://dlt-pipeline-main/raw_files/sales/',\n",
    "  'csv'\n",
    ");"
   ]
  },
  {
   "cell_type": "code",
   "execution_count": 0,
   "metadata": {
    "application/vnd.databricks.v1+cell": {
     "cellMetadata": {},
     "inputWidgets": {},
     "nuid": "78aafe8a-45ec-4e0f-83ff-5a9ee0d6d48d",
     "showTitle": false,
     "tableResultSettingsMap": {},
     "title": ""
    }
   },
   "outputs": [],
   "source": [
    "CREATE STREAMING TABLE sales_silver\n",
    "(\n",
    "  CONSTRAINT valid_order_id EXPECT (order_id IS NOT NULL) ON VIOLATION DROP ROW\n",
    ")\n",
    "AS\n",
    "SELECT DISTINCT * FROM STREAM(LIVE.sales);"
   ]
  },
  {
   "cell_type": "code",
   "execution_count": 0,
   "metadata": {
    "application/vnd.databricks.v1+cell": {
     "cellMetadata": {
      "byteLimit": 2048000,
      "rowLimit": 10000
     },
     "inputWidgets": {},
     "nuid": "5ec30906-f290-435a-b331-a5fb8a339a4f",
     "showTitle": false,
     "tableResultSettingsMap": {},
     "title": ""
    }
   },
   "outputs": [],
   "source": [
    "CREATE STREAMING LIVE TABLE customers\n",
    "AS SELECT *, current_timestamp() as ingestion_date FROM cloud_files(\n",
    "  's3://dlt-pipeline-main/raw_files/customers/'\n",
    ");"
   ]
  },
  {
   "cell_type": "code",
   "execution_count": 0,
   "metadata": {
    "application/vnd.databricks.v1+cell": {
     "cellMetadata": {},
     "inputWidgets": {},
     "nuid": "8798ae66-10e4-49a1-ae74-081fde5a12ec",
     "showTitle": false,
     "tableResultSettingsMap": {},
     "title": ""
    }
   },
   "outputs": [],
   "source": [
    "-- Create and populate the target table.\n",
    "CREATE OR REFRESH STREAMING TABLE customers_silver;\n",
    "\n",
    "APPLY CHANGES INTO\n",
    "  live.customers_silver\n",
    "FROM\n",
    "  stream(LIve.customers)\n",
    "KEYS\n",
    "  (customer_id)\n",
    "APPLY AS DELETE WHEN\n",
    "  operation = \"DELETE\"\n",
    "SEQUENCE BY\n",
    "  sequenceNum\n",
    "COLUMNS * EXCEPT\n",
    "  (operation,sequenceNum ,_rescued_data,ingestion_date\n",
    ")\n",
    "STORED AS\n",
    "  SCD TYPE 2;"
   ]
  },
  {
   "cell_type": "code",
   "execution_count": 0,
   "metadata": {
    "application/vnd.databricks.v1+cell": {
     "cellMetadata": {},
     "inputWidgets": {},
     "nuid": "209ef3cd-1ee7-4f15-b479-d2fc84c447af",
     "showTitle": false,
     "tableResultSettingsMap": {},
     "title": ""
    }
   },
   "outputs": [],
   "source": [
    "create streaming table customers_silver_active as \n",
    "select customer_id,customer_name,customer_email,customer_city,customer_state from STREAM(live.customers_silver) where `__END_AT` is null"
   ]
  },
  {
   "cell_type": "code",
   "execution_count": 0,
   "metadata": {
    "application/vnd.databricks.v1+cell": {
     "cellMetadata": {
      "byteLimit": 2048000,
      "rowLimit": 10000
     },
     "inputWidgets": {},
     "nuid": "ba13bae7-b25f-456a-843b-0f6bd366be15",
     "showTitle": false,
     "tableResultSettingsMap": {},
     "title": ""
    }
   },
   "outputs": [],
   "source": [
    "CREATE STREAMING LIVE TABLE products\n",
    "AS SELECT *, current_timestamp() as ingestion_date FROM cloud_files(\n",
    "  's3://dlt-pipeline-main/raw_files/products/'\n",
    ");"
   ]
  },
  {
   "cell_type": "code",
   "execution_count": 0,
   "metadata": {
    "application/vnd.databricks.v1+cell": {
     "cellMetadata": {},
     "inputWidgets": {},
     "nuid": "e3697c76-afe1-4ebc-a56b-08855d4ac026",
     "showTitle": false,
     "tableResultSettingsMap": {},
     "title": ""
    }
   },
   "outputs": [],
   "source": [
    "-- Create and populate the target table.\n",
    "CREATE OR REFRESH STREAMING TABLE product_silver;\n",
    "\n",
    "APPLY CHANGES INTO\n",
    "  live.product_silver\n",
    "FROM\n",
    "  stream(LIve.products)\n",
    "KEYS\n",
    "  (product_id)\n",
    "APPLY AS DELETE WHEN\n",
    "  operation = \"DELETE\"\n",
    "SEQUENCE BY\n",
    "  seqNum\n",
    "COLUMNS * EXCEPT\n",
    "  (operation,seqNum ,_rescued_data,ingestion_date\n",
    ")\n",
    "STORED AS\n",
    "  SCD TYPE 1;\n"
   ]
  },
  {
   "cell_type": "code",
   "execution_count": 0,
   "metadata": {
    "application/vnd.databricks.v1+cell": {
     "cellMetadata": {},
     "inputWidgets": {},
     "nuid": "b101a75a-5230-4d61-8a0c-56e1b4169ac4",
     "showTitle": false,
     "tableResultSettingsMap": {},
     "title": ""
    }
   },
   "outputs": [],
   "source": [
    "---What are the total sales and total discount accounts for each customer?\n",
    "CREATE LIVE TABLE total_sales_customer AS\n",
    "SELECT \n",
    "    c.customer_id,\n",
    "    c.customer_name,\n",
    "    ROUND(SUM(s.total_amount)) AS total_sales,\n",
    "    SUM(s.discount_amount) AS total_discount\n",
    "FROM LIVE.sales_silver s\n",
    "JOIN LIVE.customers_silver c\n",
    "    ON s.customer_id = c.customer_id\n",
    "GROUP BY \n",
    "    c.customer_id, \n",
    "    c.customer_name\n",
    "ORDER BY \n",
    "    total_sales DESC;"
   ]
  },
  {
   "cell_type": "code",
   "execution_count": 0,
   "metadata": {
    "application/vnd.databricks.v1+cell": {
     "cellMetadata": {},
     "inputWidgets": {},
     "nuid": "233a53da-6ee8-430d-b4ee-b15a2e51f17c",
     "showTitle": false,
     "tableResultSettingsMap": {},
     "title": ""
    }
   },
   "outputs": [],
   "source": [
    "---What is the total sales based on category?\n",
    "CREATE LIVE TABLE total_sales_category AS\n",
    "SELECT \n",
    "    p.product_category,\n",
    "    SUM(s.total_amount) AS total_sales\n",
    "FROM LIVE.sales_silver s\n",
    "JOIN LIVE.product_silver p\n",
    "    ON s.product_id = p.product_id\n",
    "GROUP BY \n",
    "    p.product_category \n",
    "ORDER BY \n",
    "    total_sales DESC;"
   ]
  }
 ],
 "metadata": {
  "application/vnd.databricks.v1+notebook": {
   "computePreferences": null,
   "dashboards": [],
   "environmentMetadata": {
    "base_environment": "",
    "environment_version": "2"
   },
   "language": "sql",
   "notebookMetadata": {
    "pythonIndentUnit": 4
   },
   "notebookName": "DLT_pipelines_notebook",
   "widgets": {}
  },
  "language_info": {
   "name": "sql"
  }
 },
 "nbformat": 4,
 "nbformat_minor": 0
}
